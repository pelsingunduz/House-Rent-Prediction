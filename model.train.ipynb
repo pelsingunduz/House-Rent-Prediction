{
 "cells": [
  {
   "cell_type": "code",
   "execution_count": 32,
   "metadata": {},
   "outputs": [],
   "source": [
    "import os, re, json, warnings\n",
    "import numpy as np\n",
    "import pandas as pd\n",
    "\n",
    "from sklearn.model_selection import train_test_split\n",
    "from sklearn.compose import ColumnTransformer\n",
    "from sklearn.pipeline import Pipeline\n",
    "from sklearn.preprocessing import OneHotEncoder, StandardScaler\n",
    "from sklearn.impute import SimpleImputer\n",
    "from sklearn.linear_model import LinearRegression\n",
    "from sklearn.ensemble import RandomForestRegressor\n",
    "from sklearn.metrics import r2_score, mean_squared_error, mean_absolute_error\n",
    "import sklearn"
   ]
  },
  {
   "cell_type": "code",
   "execution_count": 33,
   "metadata": {},
   "outputs": [],
   "source": [
    "warnings.filterwarnings(\"ignore\", category=UserWarning)\n"
   ]
  },
  {
   "cell_type": "code",
   "execution_count": 34,
   "metadata": {},
   "outputs": [],
   "source": [
    "df = pd.read_csv('house_rent_dataset.csv').copy()"
   ]
  },
  {
   "cell_type": "code",
   "execution_count": 35,
   "metadata": {},
   "outputs": [],
   "source": [
    "def rmse_compat(y_true, y_pred):\n",
    "    \"\"\"Eski sklearn sürümlerinde squared=False yoksa RMSE'yi manuel hesaplar.\"\"\"\n",
    "    try:\n",
    "        return mean_squared_error(y_true, y_pred, squared=False)\n",
    "    except TypeError:\n",
    "        return np.sqrt(mean_squared_error(y_true, y_pred))"
   ]
  },
  {
   "cell_type": "code",
   "execution_count": 36,
   "metadata": {},
   "outputs": [],
   "source": [
    "def parse_floor_safe(s: str):\n",
    "    \"\"\"\n",
    "    'Floor' metnini (örn: 'Ground out of 14', '3 out of 10', 'Upper Basement') iki sayıya çevirir.\n",
    "    Dönüş: (current_floor, total_floors) — sayı yoksa NaN döner.\n",
    "    \"\"\"\n",
    "    if pd.isna(s):\n",
    "        return np.nan, np.nan\n",
    "\n",
    "    s = str(s).strip().lower()\n",
    "    parts = s.split(\"out of\")\n",
    "    cur_raw = parts[0].strip()\n",
    "    tot_raw = parts[1].strip() if len(parts) > 1 else \"\"\n",
    "\n",
    "    # current_floor\n",
    "    if \"ground\" in cur_raw:\n",
    "        cur_val = 0\n",
    "    elif \"upper\" in cur_raw and \"basement\" in cur_raw:\n",
    "        cur_val = -1\n",
    "    elif \"lower\" in cur_raw and \"basement\" in cur_raw:\n",
    "        cur_val = -2\n",
    "    else:\n",
    "        m = re.search(r\"(\\d+)\", cur_raw)\n",
    "        cur_val = int(m.group(1)) if m else np.nan\n",
    "\n",
    "    # total_floors\n",
    "    m2 = re.search(r\"(\\d+)\", tot_raw)\n",
    "    tot_val = int(m2.group(1)) if m2 else np.nan\n",
    "\n",
    "    return cur_val, tot_val\n"
   ]
  },
  {
   "cell_type": "code",
   "execution_count": 37,
   "metadata": {},
   "outputs": [],
   "source": [
    "def make_ohe_pipeline():\n",
    "    \"\"\"\n",
    "    OneHotEncoder'ı sklearn sürümüne göre güvenli kur.\n",
    "    1. Modern: sparse_output=False\n",
    "    2. Eski:   sparse=False\n",
    "    \"\"\"\n",
    "    try:\n",
    "        return Pipeline(steps=[\n",
    "            (\"imputer\", SimpleImputer(strategy=\"most_frequent\")),\n",
    "            (\"onehot\", OneHotEncoder(handle_unknown=\"ignore\", sparse_output=False)),\n",
    "        ])\n",
    "    except TypeError:\n",
    "        return Pipeline(steps=[\n",
    "            (\"imputer\", SimpleImputer(strategy=\"most_frequent\")),\n",
    "            (\"onehot\", OneHotEncoder(handle_unknown=\"ignore\", sparse=False)),\n",
    "        ])"
   ]
  },
  {
   "cell_type": "code",
   "execution_count": 38,
   "metadata": {},
   "outputs": [],
   "source": [
    "if \"Floor\" in df.columns:\n",
    "    parsed = df[\"Floor\"].apply(parse_floor_safe)\n",
    "    df[\"current_floor\"] = [p[0] for p in parsed]\n",
    "    df[\"total_floors\"]  = [p[1] for p in parsed]\n",
    "\n",
    "# Çok yüksek kardinalite veya açıklama niteliğindeki kolonlar (varsa düş)\n",
    "for col in [\"Posted On\", \"Area Locality\", \"Point of Contact\", \"Floor\"]:\n",
    "    if col in df.columns:\n",
    "        df.drop(columns=col, inplace=True)\n"
   ]
  },
  {
   "cell_type": "code",
   "execution_count": 39,
   "metadata": {},
   "outputs": [
    {
     "name": "stdout",
     "output_type": "stream",
     "text": [
      "Kritik eksikler temizlendi: 4746 → 4746\n"
     ]
    }
   ],
   "source": [
    "target = \"Rent\"\n",
    "assert target in df.columns, \"Rent sütunu bulunamadı.\"\n",
    "\n",
    "# Kritik sayısal kolonlarda çok eksik varsa satırı düş (eğitimi kolaylaştırır)\n",
    "critical = [c for c in [\"Size\", \"BHK\", \"Bathroom\"] if c in df.columns]\n",
    "if critical:\n",
    "    before = len(df)\n",
    "    df = df.dropna(subset=critical).copy()\n",
    "    print(f\"Kritik eksikler temizlendi: {before} → {len(df)}\")\n",
    "\n",
    "# Aşırı uçları yumuşat (Size)\n",
    "if \"Size\" in df.columns:\n",
    "    q1, q99 = df[\"Size\"].quantile([0.01, 0.99])\n",
    "    df[\"Size\"] = df[\"Size\"].clip(lower=q1, upper=q99)"
   ]
  },
  {
   "cell_type": "code",
   "execution_count": 40,
   "metadata": {},
   "outputs": [
    {
     "name": "stdout",
     "output_type": "stream",
     "text": [
      "Features -> numeric: 5, categorical: 4\n",
      "X shape: (4746, 9) | y shape: (4746,)\n"
     ]
    }
   ],
   "source": [
    "# Sayısal/kategorik listeleri çıkar (hedef hariç)\n",
    "num_cols = [c for c in df.select_dtypes(include=np.number).columns if c != target]\n",
    "cat_cols = list(df.select_dtypes(include=\"object\").columns)\n",
    "\n",
    "# X/y oluştur ve hizala\n",
    "X = df[num_cols + cat_cols].replace([np.inf, -np.inf], np.nan)\n",
    "y = df[target].replace([np.inf, -np.inf], np.nan)\n",
    "mask = (~y.isna())\n",
    "X, y = X.loc[mask], y.loc[mask]\n",
    "\n",
    "print(f\"Features -> numeric: {len(num_cols)}, categorical: {len(cat_cols)}\")\n",
    "print(\"X shape:\", X.shape, \"| y shape:\", y.shape)"
   ]
  },
  {
   "cell_type": "code",
   "execution_count": 41,
   "metadata": {},
   "outputs": [],
   "source": [
    "#  Hedefi log'a almak )\n",
    "use_log_target = True\n",
    "y_target = np.log1p(y) if use_log_target else y\n"
   ]
  },
  {
   "cell_type": "code",
   "execution_count": 42,
   "metadata": {},
   "outputs": [],
   "source": [
    "X_train, X_test, y_train, y_test = train_test_split(\n",
    "    X, y_target, test_size=0.2, random_state=42\n",
    ")"
   ]
  },
  {
   "cell_type": "code",
   "execution_count": 43,
   "metadata": {},
   "outputs": [],
   "source": [
    "numeric_transformer = Pipeline(steps=[\n",
    "    (\"imputer\", SimpleImputer(strategy=\"median\")),\n",
    "    (\"scaler\", StandardScaler())\n",
    "])\n",
    "\n",
    "categorical_transformer = make_ohe_pipeline()\n",
    "\n",
    "preprocess = ColumnTransformer(\n",
    "    transformers=[\n",
    "        (\"num\", numeric_transformer, num_cols),\n",
    "        (\"cat\", categorical_transformer, cat_cols),\n",
    "    ],\n",
    "    remainder=\"drop\"\n",
    ")\n"
   ]
  },
  {
   "cell_type": "code",
   "execution_count": 44,
   "metadata": {},
   "outputs": [
    {
     "name": "stdout",
     "output_type": "stream",
     "text": [
      "LinearRegression -> R2: 0.616 | RMSE: 39115.7 | MAE: 12272.1\n",
      "RandomForest     -> R2: 0.683 | RMSE: 35554.5 | MAE: 10981.0\n"
     ]
    }
   ],
   "source": [
    "models = {\n",
    "    \"LinearRegression\": LinearRegression(),\n",
    "    \"RandomForest\": RandomForestRegressor(n_estimators=300, random_state=42, n_jobs=-1),\n",
    "}\n",
    "\n",
    "results = {}\n",
    "fitted = {}\n",
    "\n",
    "for name, model in models.items():\n",
    "    pipe = Pipeline([(\"prep\", preprocess), (\"model\", model)])\n",
    "    pipe.fit(X_train, y_train)\n",
    "    y_pred = pipe.predict(X_test)\n",
    "\n",
    "    # Değerlendirmeyi gerçek para ölçeğine çevir\n",
    "    y_test_real = np.expm1(y_test) if use_log_target else y_test\n",
    "    y_pred_real = np.expm1(y_pred) if use_log_target else y_pred\n",
    "\n",
    "    r2   = r2_score(y_test_real, y_pred_real)\n",
    "    rmse = rmse_compat(y_test_real, y_pred_real)\n",
    "    mae  = mean_absolute_error(y_test_real, y_pred_real)\n",
    "\n",
    "    results[name] = {\"R2\": float(r2), \"RMSE\": float(rmse), \"MAE\": float(mae)}\n",
    "    fitted[name] = pipe\n",
    "\n",
    "    print(f\"{name:16s} -> R2: {r2:.3f} | RMSE: {rmse:.1f} | MAE: {mae:.1f}\")\n"
   ]
  },
  {
   "cell_type": "code",
   "execution_count": 45,
   "metadata": {},
   "outputs": [
    {
     "name": "stdout",
     "output_type": "stream",
     "text": [
      "\n",
      "Best model: RandomForest {'R2': 0.682810533331963, 'RMSE': 35554.47896486353, 'MAE': 10980.970658167033}\n",
      "✅ Model kaydedildi: ../model/house_rent_model.joblib\n",
      "✅ Meta yazıldı   : ../model/model_meta.json\n"
     ]
    }
   ],
   "source": [
    "best = max(results, key=lambda k: results[k][\"R2\"])\n",
    "print(\"\\nBest model:\", best, results[best])\n",
    "\n",
    "out_dir = \"../model\"\n",
    "os.makedirs(out_dir, exist_ok=True)\n",
    "\n",
    "# Pipeline + meta yaz\n",
    "from joblib import dump\n",
    "model_path = os.path.join(out_dir, \"house_rent_model.joblib\")\n",
    "dump(fitted[best], model_path)\n",
    "\n",
    "meta = {\n",
    "    \"use_log_target\": use_log_target,\n",
    "    \"target\": target,\n",
    "    \"num_cols\": num_cols,\n",
    "    \"cat_cols\": cat_cols,\n",
    "    \"sklearn_version\": sklearn.__version__,\n",
    "}\n",
    "with open(os.path.join(out_dir, \"model_meta.json\"), \"w\", encoding=\"utf-8\") as f:\n",
    "    json.dump(meta, f, ensure_ascii=False, indent=2)\n",
    "\n",
    "print(f\"✅ Model kaydedildi: {model_path}\")\n",
    "print(f\"✅ Meta yazıldı   : {os.path.join(out_dir, 'model_meta.json')}\")"
   ]
  },
  {
   "cell_type": "code",
   "execution_count": 46,
   "metadata": {},
   "outputs": [
    {
     "name": "stdout",
     "output_type": "stream",
     "text": [
      "🔮 Tahmin (₹): 20417\n"
     ]
    }
   ],
   "source": [
    "import json, numpy as np, pandas as pd\n",
    "from joblib import load\n",
    "from pathlib import Path\n",
    "\n",
    "# Kayıt konumu: eğitim çıktısında yazan klasörü kullan\n",
    "MODEL_DIR = Path(\"../model\")  # gerekirse \"./model\" yap\n",
    "pipe = load(MODEL_DIR / \"house_rent_model.joblib\")\n",
    "\n",
    "with open(MODEL_DIR / \"model_meta.json\", \"r\", encoding=\"utf-8\") as f:\n",
    "    meta = json.load(f)\n",
    "\n",
    "use_log_target = bool(meta[\"use_log_target\"])\n",
    "num_cols = meta[\"num_cols\"]\n",
    "cat_cols = meta[\"cat_cols\"]\n",
    "\n",
    "# ÖRNEK GİRDİ (kendi değerlerinle değiştir)\n",
    "sample = {\n",
    "    \"Size\": 1100,\n",
    "    \"BHK\": 2,\n",
    "    \"Bathroom\": 2,\n",
    "    \"City\": \"Bangalore\",\n",
    "    \"Area Type\": \"Super Area\",\n",
    "    \"Furnishing Status\": \"Semi-Furnished\",\n",
    "    \"Tenant Preferred\": \"Bachelors/Family\",\n",
    "    \"current_floor\": 3,\n",
    "    \"total_floors\": 10,\n",
    "}\n",
    "\n",
    "# Eksik kolonları np.nan ile doldurup doğru sırayla DataFrame oluştur\n",
    "row = {}\n",
    "for c in num_cols + cat_cols:\n",
    "    row[c] = sample.get(c, np.nan)\n",
    "\n",
    "X_one = pd.DataFrame([row])\n",
    "pred = pipe.predict(X_one)[0]\n",
    "pred_real = float(np.expm1(pred) if use_log_target else pred)\n",
    "\n",
    "print(\"🔮 Tahmin (₹):\", round(pred_real))"
   ]
  },
  {
   "cell_type": "code",
   "execution_count": 47,
   "metadata": {},
   "outputs": [
    {
     "data": {
      "image/png": "[encoded data removed]",
      "text/plain": [
       "<Figure size 600x600 with 1 Axes>"
      ]
     },
     "metadata": {},
     "output_type": "display_data"
    },
    {
     "data": {
      "image/png": "[encoded data removed]",
      "text/plain": [
       "<Figure size 600x400 with 1 Axes>"
      ]
     },
     "metadata": {},
     "output_type": "display_data"
    },
    {
     "data": {
      "image/png": "[encoded data removed]",
      "text/plain": [
       "<Figure size 600x400 with 1 Axes>"
      ]
     },
     "metadata": {},
     "output_type": "display_data"
    },
    {
     "name": "stdout",
     "output_type": "stream",
     "text": [
      "R2≈ 0.683 | RMSE≈ 35,554 | MAE≈ 10,981\n"
     ]
    }
   ],
   "source": [
    "# --- DIAGNOSTIC PLOTS (matplotlib) ---\n",
    "import numpy as np\n",
    "import matplotlib.pyplot as plt\n",
    "\n",
    "# Kaydedilmiş modeli ve metayı yükle\n",
    "def load_model_and_meta(model_dir=\"../model\"):\n",
    "    from joblib import load\n",
    "    import json\n",
    "    from pathlib import Path\n",
    "    p = Path(model_dir)\n",
    "    pipe = load(p / \"house_rent_model.joblib\")\n",
    "    meta = json.load(open(p / \"model_meta.json\", \"r\", encoding=\"utf-8\"))\n",
    "    return pipe, meta\n",
    "\n",
    "# Y-true ve Y-hat üret (eğitimden kalan X_test/y_test varsa onları kullan, yoksa dataset’ten üret)\n",
    "def get_y_true_pred(pipe, meta, X_test=None, y_test=None, df_path=\"house_rent_dataset.csv\"):\n",
    "    use_log_target = bool(meta[\"use_log_target\"])\n",
    "    if X_test is not None and y_test is not None:\n",
    "        y_true = np.expm1(y_test) if use_log_target else y_test\n",
    "        y_pred = pipe.predict(X_test)\n",
    "        y_hat  = np.expm1(y_pred) if use_log_target else y_pred\n",
    "        return np.asarray(y_true), np.asarray(y_hat)\n",
    "    else:\n",
    "        import pandas as pd\n",
    "        num_cols, cat_cols = meta[\"num_cols\"], meta[\"cat_cols\"]\n",
    "        target = meta.get(\"target\", \"Rent\")\n",
    "        df = pd.read_csv(df_path)\n",
    "        X_full = df[num_cols + cat_cols]\n",
    "        y_true = df[target].values\n",
    "        y_pred = pipe.predict(X_full)\n",
    "        y_hat  = np.expm1(y_pred) if use_log_target else y_pred\n",
    "        return np.asarray(y_true), np.asarray(y_hat)\n",
    "\n",
    "pipe, meta = load_model_and_meta(\"../model\")\n",
    "\n",
    "# Eğitim oturumu açıksa X_test/y_test kullan; değilse dataset’ten hesapla\n",
    "try:\n",
    "    y_true, y_hat = get_y_true_pred(pipe, meta, X_test=X_test, y_test=y_test)\n",
    "except NameError:\n",
    "    y_true, y_hat = get_y_true_pred(pipe, meta)\n",
    "\n",
    "# 1) Gerçek vs Tahmin (45° referans çizgisiyle)\n",
    "plt.figure(figsize=(6,6))\n",
    "plt.scatter(y_true, y_hat, alpha=0.5)\n",
    "lo = float(min(np.min(y_true), np.min(y_hat)))\n",
    "hi = float(max(np.max(y_true), np.max(y_hat)))\n",
    "plt.plot([lo, hi], [lo, hi])\n",
    "plt.title(\"Gerçek vs Tahmin\")\n",
    "plt.xlabel(\"Gerçek Kira (₹)\")\n",
    "plt.ylabel(\"Tahmin (₹)\")\n",
    "plt.show()\n",
    "\n",
    "# 2) Hata histogramı (residual)\n",
    "res = y_hat - y_true\n",
    "plt.figure(figsize=(6,4))\n",
    "plt.hist(res, bins=40)\n",
    "plt.title(\"Hata Dağılımı (Tahmin - Gerçek)\")\n",
    "plt.xlabel(\"Hata (₹)\")\n",
    "plt.ylabel(\"Frekans\")\n",
    "plt.show()\n",
    "\n",
    "# 3) Hata vs Tahmin (trend/heteroskedastisite kontrolü)\n",
    "plt.figure(figsize=(6,4))\n",
    "plt.scatter(y_hat, res, alpha=0.5)\n",
    "plt.axhline(0)\n",
    "plt.title(\"Hata vs Tahmin\")\n",
    "plt.xlabel(\"Tahmin (₹)\")\n",
    "plt.ylabel(\"Hata (₹)\")\n",
    "plt.show()\n",
    "\n",
    "# Özet metrikler (burada tekrar hesap)\n",
    "rmse = float(np.sqrt(np.mean((y_hat - y_true)**2)))\n",
    "mae  = float(np.mean(np.abs(y_hat - y_true)))\n",
    "from sklearn.metrics import r2_score\n",
    "r2   = float(r2_score(y_true, y_hat))\n",
    "print(f\"R2≈ {r2:.3f} | RMSE≈ {rmse:,.0f} | MAE≈ {mae:,.0f}\")\n"
   ]
  },
  {
   "cell_type": "code",
   "execution_count": 48,
   "metadata": {},
   "outputs": [
    {
     "name": "stdout",
     "output_type": "stream",
     "text": [
      "Şehir medyanları (ilk 10):\n",
      "City\n",
      "Mumbai       52000.0\n",
      "Delhi        17000.0\n",
      "Bangalore    14000.0\n",
      "Chennai      14000.0\n",
      "Hyderabad    14000.0\n",
      "Kolkata       8500.0\n",
      "Name: Rent, dtype: float64\n",
      "\n",
      "Tahminin (₹): 20,417\n",
      "Bangalore median (₹): 14,000\n",
      "Mediana göre fark: +45.8%\n"
     ]
    }
   ],
   "source": [
    "import pandas as pd, numpy as np, json\n",
    "from joblib import load\n",
    "from pathlib import Path\n",
    "\n",
    "# Şehir medyanlarını çıkar\n",
    "df = pd.read_csv(\"house_rent_dataset.csv\")\n",
    "city_medians = df.groupby(\"City\")[\"Rent\"].median().sort_values(ascending=False)\n",
    "print(\"Şehir medyanları (ilk 10):\")\n",
    "print(city_medians.head(10))\n",
    "\n",
    "# Modeli ve meta bilgiyi yükle\n",
    "MODEL_DIR = Path(\"../model\")   # modeli nereye kaydettiysen ona göre değiştir\n",
    "pipe = load(MODEL_DIR / \"house_rent_model.joblib\")\n",
    "meta = json.load(open(MODEL_DIR / \"model_meta.json\",\"r\",encoding=\"utf-8\"))\n",
    "use_log_target = bool(meta[\"use_log_target\"])\n",
    "num_cols, cat_cols = meta[\"num_cols\"], meta[\"cat_cols\"]\n",
    "\n",
    "# ÖRNEK GİRDİ (kendi değerlerinle değiştir)\n",
    "sample = {\n",
    "    \"Size\": 1100, \"BHK\": 2, \"Bathroom\": 2,\n",
    "    \"City\": \"Bangalore\", \"Area Type\": \"Super Area\",\n",
    "    \"Furnishing Status\": \"Semi-Furnished\",\n",
    "    \"Tenant Preferred\": \"Bachelors/Family\",\n",
    "    \"current_floor\": 3, \"total_floors\": 10\n",
    "}\n",
    "\n",
    "# Tek satır tahmin\n",
    "row = {c: sample.get(c, np.nan) for c in (num_cols + cat_cols)}\n",
    "X_one = pd.DataFrame([row])\n",
    "pred = pipe.predict(X_one)[0]\n",
    "pred_real = float(np.expm1(pred) if use_log_target else pred)\n",
    "\n",
    "city_med = float(city_medians.get(sample[\"City\"], np.nan))\n",
    "\n",
    "print(f\"\\nTahminin (₹): {round(pred_real):,}\")\n",
    "if not np.isnan(city_med):\n",
    "    print(f\"{sample['City']} median (₹): {round(city_med):,}\")\n",
    "    diff_pct = (pred_real - city_med) / city_med * 100\n",
    "    print(f\"Mediana göre fark: {diff_pct:+.1f}%\")\n",
    "else:\n",
    "    print(f\"{sample['City']} için medyan bulunamadı.\")\n"
   ]
  },
  {
   "cell_type": "code",
   "execution_count": null,
   "metadata": {},
   "outputs": [],
   "source": []
  }
 ],
 "metadata": {
  "kernelspec": {
   "display_name": "Python (keras_env)",
   "language": "python",
   "name": "keras_env"
  },
  "language_info": {
   "codemirror_mode": {
    "name": "ipython",
    "version": 3
   },
   "file_extension": ".py",
   "mimetype": "text/x-python",
   "name": "python",
   "nbconvert_exporter": "python",
   "pygments_lexer": "ipython3",
   "version": "3.10.18"
  }
 },
 "nbformat": 4,
 "nbformat_minor": 2
}
